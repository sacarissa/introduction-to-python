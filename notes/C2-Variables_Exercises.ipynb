{
  "cells": [
    {
      "cell_type": "markdown",
      "metadata": {
        "id": "rSeX6g3b1rAr"
      },
      "source": [
        "# Exercises for Variables"
      ]
    },
    {
      "cell_type": "markdown",
      "metadata": {
        "heading_collapsed": true,
        "id": "sAHOSOxG1rAu"
      },
      "source": [
        "## Exercise 1"
      ]
    },
    {
      "cell_type": "markdown",
      "metadata": {
        "hidden": true,
        "id": "7K2iWfZp1rAu"
      },
      "source": [
        "Repeat the exercise from earlier on, about the daily return of a stock, but use variables instead of the raw numbers. You can initialize the variables to use \\\\$550 for the closing price of the stock on Monday, and then use \\\\$560 as the closing price on Tuesday. Try afterwards to change these numbers and see the results. (Hint: notice what would happen if you use the name `return` for the variable.)"
      ]
    },
    {
      "cell_type": "code",
      "execution_count": 3,
      "metadata": {
        "hidden": true,
        "id": "B40CH5k71rAw",
        "outputId": "76087f11-54a2-4ead-d106-e6d1e1991c46",
        "colab": {
          "base_uri": "https://localhost:8080/"
        }
      },
      "outputs": [
        {
          "output_type": "stream",
          "name": "stdout",
          "text": [
            "The daily return is\n",
            "1.8181818181818181\n"
          ]
        }
      ],
      "source": [
        "close_price_Monday = 550\n",
        "close_price_Tuesday = 560\n",
        "stock_return = (100 * (close_price_Tuesday - close_price_Monday)/close_price_Monday)\n",
        "print(\"The daily return is\")\n",
        "print(stock_return)"
      ]
    },
    {
      "cell_type": "markdown",
      "metadata": {
        "hidden": true,
        "solution2": "hidden",
        "solution2_first": true,
        "id": "WeRsCrju1rAy"
      },
      "source": [
        "### Solution"
      ]
    },
    {
      "cell_type": "code",
      "execution_count": 4,
      "metadata": {
        "hidden": true,
        "solution2": "hidden",
        "id": "i3FyTJWa1rAy",
        "outputId": "0402a968-c513-48aa-9cf7-6694398ea6e1",
        "colab": {
          "base_uri": "https://localhost:8080/"
        }
      },
      "outputs": [
        {
          "output_type": "stream",
          "name": "stdout",
          "text": [
            "The daily return is\n",
            "1.8181818181818181\n"
          ]
        }
      ],
      "source": [
        "price_mon = 550\n",
        "price_tue = 560\n",
        "daily_return = 100 * (price_tue - price_mon) / price_mon\n",
        "print(\"The daily return is\")\n",
        "print(daily_return)"
      ]
    },
    {
      "cell_type": "code",
      "execution_count": null,
      "metadata": {
        "hidden": true,
        "solution2": "hidden",
        "id": "RUhw4gzX1rAz"
      },
      "outputs": [],
      "source": [
        "# If you uncomment the code below, notice that we cannot call the variable \"return\"\n",
        "# as \"return\" is a reserved keyword in Python\n",
        "\n",
        "# price_mon = 550\n",
        "# price_tue = 560\n",
        "# return = 100*(price_tue-price_mon)/price_mon\n",
        "# print(\"The daily return is\")\n",
        "# print(return)"
      ]
    },
    {
      "cell_type": "markdown",
      "metadata": {
        "heading_collapsed": true,
        "id": "0vxVvAPM1rAz"
      },
      "source": [
        "## Exercise 2\n",
        "\n"
      ]
    },
    {
      "cell_type": "markdown",
      "metadata": {
        "hidden": true,
        "id": "tqt_iYx_1rAz"
      },
      "source": [
        "Write a Python program to convert centimeters to feet and inches. Remember that one foot is 30.48 centimeters, and one inch is 2.54 centimeters."
      ]
    },
    {
      "cell_type": "code",
      "execution_count": 5,
      "metadata": {
        "hidden": true,
        "id": "p-JBwG4I1rA0",
        "outputId": "b0ac8096-5c19-4a22-92ae-a5c0ca15011a",
        "colab": {
          "base_uri": "https://localhost:8080/"
        }
      },
      "outputs": [
        {
          "output_type": "stream",
          "name": "stdout",
          "text": [
            "180 cm is 5 ft and 10 inches\n"
          ]
        }
      ],
      "source": [
        "# your code here\n",
        "centimeters = 180\n",
        "cm_per_foot = 30.48\n",
        "cm_per_in = 2.54\n",
        "feet = int(centimeters / 30.48)\n",
        "inches = int(centimeters % 30.48 / 2.54)\n",
        "print(centimeters, \"cm is\", feet, \"ft and\", inches, \"inches\")"
      ]
    },
    {
      "cell_type": "markdown",
      "metadata": {
        "hidden": true,
        "solution2": "hidden",
        "solution2_first": true,
        "id": "RALIUhqm1rA0"
      },
      "source": [
        "### Solution"
      ]
    },
    {
      "cell_type": "code",
      "execution_count": null,
      "metadata": {
        "hidden": true,
        "solution2": "hidden",
        "id": "RZZB_7F01rA0"
      },
      "outputs": [],
      "source": [
        "# So, let's take a look at our code from last time:\n",
        "print(\"180 cm is\", int(180 // 30.48), \"feet and\", round(180 % 30.48 / 2.54, 1), \"inches\")"
      ]
    },
    {
      "cell_type": "code",
      "execution_count": null,
      "metadata": {
        "hidden": true,
        "solution2": "hidden",
        "id": "g870JCxl1rA1"
      },
      "outputs": [],
      "source": [
        "# We will now start introducing variables\n",
        "centimeters = 180\n",
        "feet = int(centimeters / 30.48)\n",
        "inches = int(centimeters % 30.48 / 2.54)\n",
        "print(centimeters, \"cm is\", feet, \"ft and\", inches, \"inches\")"
      ]
    },
    {
      "cell_type": "code",
      "execution_count": null,
      "metadata": {
        "hidden": true,
        "solution2": "hidden",
        "id": "OKka0JCB1rA1"
      },
      "outputs": [],
      "source": [
        "# Now let's introduce more variables to eliminate the \"magic numbers\" 30.48 and 2.54\n",
        "cm_per_foot = 30.48\n",
        "cm_per_in = 2.54\n",
        "# And now let's modify our code from above\n",
        "centimeters = 180\n",
        "feet = int(centimeters / cm_per_foot)\n",
        "inches = int(centimeters % cm_per_foot / cm_per_in)\n",
        "print(centimeters, \"cm is\", feet, \"ft and\", inches, \"inches\")\n",
        "\n",
        "# And if we want to use round instead of int:\n",
        "inches = round(centimeters % cm_per_foot / cm_per_in, 1)\n",
        "print(centimeters, \"cm is\", feet, \"ft and\", inches, \"inches\")"
      ]
    },
    {
      "cell_type": "markdown",
      "metadata": {
        "heading_collapsed": true,
        "id": "ToWVWNNc1rA1"
      },
      "source": [
        "## Exercise 3"
      ]
    },
    {
      "cell_type": "markdown",
      "metadata": {
        "hidden": true,
        "id": "uolKn5fm1rA1"
      },
      "source": [
        "We want to compute the \"[wind chill index](https://en.wikipedia.org/wiki/Wind_chill)\" as described at Wikipedia\n",
        "\n",
        "$T_\\mathrm{wc}=35.74+0.6215 T_\\mathrm{a}-35.75 v^{0.16}+0.4275 T_\\mathrm{a} v^{0.16}$\n",
        "\n",
        "where $T_\\mathrm{wc}$  is the wind chill index, based on the Fahrenheit scale; $T_\\mathrm{a}$ is the air temperature in degrees Fahrenheit, and $v$ is the wind speed in miles per hour. (Note: Windchill temperature is defined only for temperatures at or below 50 °F and wind speeds above 3.0 miles per hour.)"
      ]
    },
    {
      "cell_type": "code",
      "execution_count": 10,
      "metadata": {
        "hidden": true,
        "id": "yD5sZdZy1rA2",
        "outputId": "346fc304-e77c-468d-be47-73893c5b9941",
        "colab": {
          "base_uri": "https://localhost:8080/"
        }
      },
      "outputs": [
        {
          "output_type": "stream",
          "name": "stdout",
          "text": [
            "27.079134328318936\n"
          ]
        }
      ],
      "source": [
        "# your code here\n",
        "Ta = 32\n",
        "v = 5\n",
        "Twc = 35.74 + (0.6216 * Ta) - (35.75 * (v**0.16)) + ((0.4275 * Ta) *(v**0.16))\n",
        "print(Twc)"
      ]
    },
    {
      "cell_type": "markdown",
      "metadata": {
        "hidden": true,
        "solution2": "hidden",
        "solution2_first": true,
        "id": "O-wfBOpl1rA2"
      },
      "source": [
        "### Solution"
      ]
    },
    {
      "cell_type": "code",
      "execution_count": 8,
      "metadata": {
        "hidden": true,
        "solution2": "hidden",
        "id": "pZKc_gai1rA2",
        "outputId": "01df75b0-0245-49fc-a1a6-b4a3009352e0",
        "colab": {
          "base_uri": "https://localhost:8080/"
        }
      },
      "outputs": [
        {
          "output_type": "stream",
          "name": "stdout",
          "text": [
            "The windchil index (feels-like) is: 27\n"
          ]
        }
      ],
      "source": [
        "v = 5  # miles per hour\n",
        "Ta = 32  # air temperature in F\n",
        "Twc = 35.74 + 0.6215 * Ta - 35.75 * v ** 0.16 + 0.4275 * Ta * v ** 0.16\n",
        "print(\"The windchil index (feels-like) is:\", int(Twc))"
      ]
    },
    {
      "cell_type": "markdown",
      "metadata": {
        "heading_collapsed": true,
        "id": "qC2LXomd1rA2"
      },
      "source": [
        "## Exercise 4"
      ]
    },
    {
      "cell_type": "markdown",
      "metadata": {
        "hidden": true,
        "id": "8imL8aoe1rA2"
      },
      "source": [
        "You have a loan with a given principal amount $p$, to be repaid over a period of $n$ years. At the end of each year, you  get charged an interest of $r$ for the total amount that you owe. Each year you pay an installment equal to $1/n$-th of the initial principal, plus interest on the *remaining* principal.\n",
        "\n",
        "Assume that the principal is \\\\$10K, interest rate of 3%, and repayment is over 10 years.\n",
        "\n",
        "Write code that computes how much you owe at the end of year 1. Then write code for calculating your payment at the end of year 2.\n",
        "\n"
      ]
    },
    {
      "cell_type": "code",
      "execution_count": 14,
      "metadata": {
        "hidden": true,
        "id": "w5zcP6Vj1rA2",
        "outputId": "de99f25a-23d9-413d-83cd-6bbf38f610bc",
        "colab": {
          "base_uri": "https://localhost:8080/"
        }
      },
      "outputs": [
        {
          "output_type": "stream",
          "name": "stdout",
          "text": [
            "1300.0\n",
            "1270.0\n"
          ]
        }
      ],
      "source": [
        "# your code here\n",
        "p = 10000\n",
        "r = 0.03\n",
        "n = 10\n",
        "interest = r * p\n",
        "payment = p / n + interest\n",
        "print (payment)\n",
        "\n",
        "remaining_principal_y2 = p - p/n\n",
        "interest_y2 = remaining_principal_y2*r\n",
        "payment_y2 = remaining_principal_y2 / (n-1) + interest_y2\n",
        "print(payment_y2)\n"
      ]
    },
    {
      "cell_type": "markdown",
      "metadata": {
        "hidden": true,
        "solution2": "hidden",
        "solution2_first": true,
        "id": "ujliGKWT1rA2"
      },
      "source": [
        "### Solution"
      ]
    },
    {
      "cell_type": "code",
      "execution_count": 12,
      "metadata": {
        "hidden": true,
        "solution2": "hidden",
        "id": "AmDzJIXL1rA3"
      },
      "outputs": [],
      "source": [
        "principal = 10000\n",
        "rate = 0.03\n",
        "years = 10"
      ]
    },
    {
      "cell_type": "code",
      "execution_count": 13,
      "metadata": {
        "hidden": true,
        "solution2": "hidden",
        "id": "6wqJGE9O1rA3",
        "outputId": "420bd0bb-77d4-4891-a1b8-e48e5d1c8b8d",
        "colab": {
          "base_uri": "https://localhost:8080/"
        }
      },
      "outputs": [
        {
          "output_type": "stream",
          "name": "stdout",
          "text": [
            "Payment at the end of year 1\n",
            "1300.0\n"
          ]
        }
      ],
      "source": [
        "interest = rate * principal\n",
        "payment = principal / years + interest\n",
        "print(\"Payment at the end of year 1\")\n",
        "print(payment)"
      ]
    },
    {
      "cell_type": "code",
      "execution_count": 15,
      "metadata": {
        "hidden": true,
        "solution2": "hidden",
        "id": "YycBuNXW1rA3",
        "outputId": "85899193-804f-4bc0-a75d-3e572dee8639",
        "colab": {
          "base_uri": "https://localhost:8080/"
        }
      },
      "outputs": [
        {
          "output_type": "stream",
          "name": "stdout",
          "text": [
            "payment at the end of year 2\n",
            "1270.0\n"
          ]
        }
      ],
      "source": [
        "remaining_principal = principal - principal / years\n",
        "interest = rate * remaining_principal\n",
        "payment = principal / years + interest\n",
        "print(\"payment at the end of year 2\")\n",
        "print(payment)"
      ]
    }
  ],
  "metadata": {
    "kernelspec": {
      "display_name": "Python 3",
      "language": "python",
      "name": "python3"
    },
    "language_info": {
      "codemirror_mode": {
        "name": "ipython",
        "version": 3
      },
      "file_extension": ".py",
      "mimetype": "text/x-python",
      "name": "python",
      "nbconvert_exporter": "python",
      "pygments_lexer": "ipython3",
      "version": "3.8.2"
    },
    "colab": {
      "provenance": []
    }
  },
  "nbformat": 4,
  "nbformat_minor": 0
}