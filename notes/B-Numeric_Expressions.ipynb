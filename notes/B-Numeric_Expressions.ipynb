{
  "cells": [
    {
      "cell_type": "markdown",
      "metadata": {
        "id": "VAL8TF-8vBra"
      },
      "source": [
        "# Expressions, Data Types, and Variables\n",
        "\n",
        "\n"
      ]
    },
    {
      "cell_type": "markdown",
      "metadata": {
        "heading_collapsed": true,
        "id": "o8GVnIPJvBrc"
      },
      "source": [
        "## Math Expressions for Numeric Types\n",
        "\n"
      ]
    },
    {
      "cell_type": "markdown",
      "metadata": {
        "hidden": true,
        "id": "vVuh6MGevBrc"
      },
      "source": [
        "We will start first by dealing with numbers and see how we can do various math and logical operations with Python. Here are a few operators that we will be using:\n",
        "\n",
        "* `+` addition, add two numbers\n",
        "* `-` subtraction and negation\n",
        "* `*` multiplication, multiply two numbers\n",
        "* `/` divide first  with the outcome being decimal outcome\n",
        "* `//` division with the outcome being integer (return only the integer part of the outcome)\n",
        "* `%` modulo/division remainder, what is the remainder when the first number is divided by the second?\n",
        "* `**` power, raise the first number into a power given by the second number"
      ]
    },
    {
      "cell_type": "code",
      "execution_count": null,
      "metadata": {
        "hidden": true,
        "id": "31J8YpTzvBrc"
      },
      "outputs": [],
      "source": [
        "print(\"addition:\")\n",
        "print(1 + 1)\n",
        "print(1.5 + 1)"
      ]
    },
    {
      "cell_type": "code",
      "execution_count": null,
      "metadata": {
        "hidden": true,
        "id": "GovxJwNgvBrd"
      },
      "outputs": [],
      "source": [
        "print(\"subtraction:\")\n",
        "print(1 - 1)\n",
        "print(1 - 1.0)"
      ]
    },
    {
      "cell_type": "code",
      "execution_count": null,
      "metadata": {
        "hidden": true,
        "id": "CBhnbnGjvBrd"
      },
      "outputs": [],
      "source": [
        "print(\"negation:\")\n",
        "print(-5)"
      ]
    },
    {
      "cell_type": "code",
      "execution_count": null,
      "metadata": {
        "hidden": true,
        "id": "MC8SPe-7vBrd"
      },
      "outputs": [],
      "source": [
        "print(\"multiplication:\")\n",
        "print(3 * 3)  # integer\n",
        "print(3 * 3.0)  # floating point"
      ]
    },
    {
      "cell_type": "code",
      "execution_count": null,
      "metadata": {
        "hidden": true,
        "id": "y2P1XNDdvBrd"
      },
      "outputs": [],
      "source": [
        "print(\"division:\")\n",
        "print(4 / 2)\n",
        "print(5 / 2)"
      ]
    },
    {
      "cell_type": "code",
      "execution_count": null,
      "metadata": {
        "hidden": true,
        "id": "h2OdUnV6vBrd"
      },
      "outputs": [],
      "source": [
        "print(\"integer division:\")\n",
        "print(4 // 2)\n",
        "print(5 // 2)"
      ]
    },
    {
      "cell_type": "code",
      "execution_count": null,
      "metadata": {
        "hidden": true,
        "id": "CRYpKpPbvBrd"
      },
      "outputs": [],
      "source": [
        "print(\"modulo:\")  # modulo is a fancy term for remainder of a division\n",
        "print(4 % 2)\n",
        "print(5 % 2)\n",
        "print(5.5 % 2)\n",
        "print(75 % 4)\n",
        "print(10 % 3)"
      ]
    },
    {
      "cell_type": "code",
      "execution_count": null,
      "metadata": {
        "hidden": true,
        "id": "R0rIaPxSvBrd"
      },
      "outputs": [],
      "source": [
        "print(\"power:\")\n",
        "print(10 ** 3)\n",
        "print(2 ** 5)"
      ]
    },
    {
      "cell_type": "markdown",
      "metadata": {
        "heading_collapsed": true,
        "id": "dUzXXgz5vBre"
      },
      "source": [
        "## Exercise 1"
      ]
    },
    {
      "cell_type": "markdown",
      "metadata": {
        "hidden": true,
        "id": "SuyS133fvBre"
      },
      "source": [
        "Assume that you go to a restaurant, and you order $50 worth of food. Then you need to add the NY Sales Tax (8.875%) and add a tip (say, 20%). Write down the calculation that will print the total cost of the food."
      ]
    },
    {
      "cell_type": "code",
      "execution_count": 2,
      "metadata": {
        "hidden": true,
        "id": "Pd_eU1vbvBre",
        "outputId": "6a8d8bb5-89af-4276-cb72-8d255c515e52",
        "colab": {
          "base_uri": "https://localhost:8080/"
        }
      },
      "outputs": [
        {
          "output_type": "stream",
          "name": "stdout",
          "text": [
            "64.4375\n"
          ]
        }
      ],
      "source": [
        "print(50 + (50*8.875/100)+(50*20/100))"
      ]
    },
    {
      "cell_type": "code",
      "execution_count": 5,
      "metadata": {
        "hidden": true,
        "id": "_EUAflqwvBre",
        "outputId": "fbce1cb8-cb10-411a-d4f6-dba5c605c247",
        "colab": {
          "base_uri": "https://localhost:8080/"
        }
      },
      "outputs": [
        {
          "output_type": "stream",
          "name": "stdout",
          "text": [
            "65.325\n"
          ]
        }
      ],
      "source": [
        "# tip calculated on the after-tax amount\n",
        "print(50 + (50*8.875/100) + ((50+(50*8.875/100))*20/100))"
      ]
    },
    {
      "cell_type": "markdown",
      "metadata": {
        "hidden": true,
        "solution2": "hidden",
        "solution2_first": true,
        "id": "GlQwr91fvBre"
      },
      "source": [
        "### Solution"
      ]
    },
    {
      "cell_type": "code",
      "execution_count": 3,
      "metadata": {
        "hidden": true,
        "solution2": "hidden",
        "id": "rjt6MMr3vBre",
        "outputId": "76fe84b0-7810-4fef-f121-4d2dbbfd0714",
        "colab": {
          "base_uri": "https://localhost:8080/"
        }
      },
      "outputs": [
        {
          "output_type": "stream",
          "name": "stdout",
          "text": [
            "The total cost of the meal, with tip on the pre-tax amount is:\n",
            "64.4375\n"
          ]
        }
      ],
      "source": [
        "print(\"The total cost of the meal, with tip on the pre-tax amount is:\")\n",
        "print(50 + 50 * 8.875 / 100 + 50 * 20 / 100)"
      ]
    },
    {
      "cell_type": "code",
      "execution_count": 6,
      "metadata": {
        "hidden": true,
        "solution2": "hidden",
        "id": "2LR09leVvBre",
        "outputId": "caed868f-8ac1-495e-8b01-d04b3f3bf4b0",
        "colab": {
          "base_uri": "https://localhost:8080/"
        }
      },
      "outputs": [
        {
          "output_type": "stream",
          "name": "stdout",
          "text": [
            "The total cost of the meal, with tip on the post-tax amount is:\n",
            "65.325\n"
          ]
        }
      ],
      "source": [
        "print(\"The total cost of the meal, with tip on the post-tax amount is:\")\n",
        "print(50 + 50 * 8.875 / 100 + (50 + 50 * 8.875 / 100) * 20 / 100)"
      ]
    },
    {
      "cell_type": "markdown",
      "metadata": {
        "heading_collapsed": true,
        "id": "7RxhM5hWvBre"
      },
      "source": [
        "## Exercise 2"
      ]
    },
    {
      "cell_type": "markdown",
      "metadata": {
        "hidden": true,
        "id": "w4u65Q8TvBre"
      },
      "source": [
        "\n",
        "You have a stock that closed at `$550` on Monday, and then closed at `$560` on Tuesday. Calculate its daily return: the daily return is defined as the difference in the closing prices, divided by the closing price the day before."
      ]
    },
    {
      "cell_type": "code",
      "execution_count": 11,
      "metadata": {
        "hidden": true,
        "id": "qnjrWxutvBre",
        "outputId": "fa22974a-5bfa-4ef6-f263-1bfc1ead810b",
        "colab": {
          "base_uri": "https://localhost:8080/"
        }
      },
      "outputs": [
        {
          "output_type": "stream",
          "name": "stdout",
          "text": [
            "0.01818181818181818\n"
          ]
        }
      ],
      "source": [
        "# your code here\n",
        "print((560-550)/550)"
      ]
    },
    {
      "cell_type": "markdown",
      "metadata": {
        "hidden": true,
        "solution2": "hidden",
        "solution2_first": true,
        "id": "S4O7OPubvBre"
      },
      "source": [
        "### Solution"
      ]
    },
    {
      "cell_type": "code",
      "execution_count": 8,
      "metadata": {
        "hidden": true,
        "solution2": "hidden",
        "id": "_P2-EnIEvBre",
        "outputId": "8a406db6-f92b-485b-be4f-5943f88687c0",
        "colab": {
          "base_uri": "https://localhost:8080/"
        }
      },
      "outputs": [
        {
          "output_type": "stream",
          "name": "stdout",
          "text": [
            "The daily return is:\n",
            "0.01818181818181818\n"
          ]
        }
      ],
      "source": [
        "print(\"The daily return is:\")\n",
        "print((560 - 550) / 550)"
      ]
    },
    {
      "cell_type": "code",
      "execution_count": 12,
      "metadata": {
        "hidden": true,
        "solution2": "hidden",
        "id": "vOviuVKfvBre",
        "outputId": "28271d0c-7c53-463b-eabf-5a92b3e53e54",
        "colab": {
          "base_uri": "https://localhost:8080/"
        }
      },
      "outputs": [
        {
          "output_type": "stream",
          "name": "stdout",
          "text": [
            "The daily return is:\n",
            "1.8181818181818181\n"
          ]
        }
      ],
      "source": [
        "# If we want to show percentages,\n",
        "# We can modify our code and\n",
        "# add a multiplication with 100 in front:\n",
        "print(\"The daily return is:\")\n",
        "print(100 * (560 - 550) / 550)"
      ]
    },
    {
      "cell_type": "markdown",
      "metadata": {
        "heading_collapsed": true,
        "id": "4m2i22SIvBre"
      },
      "source": [
        "## Exercise 3\n"
      ]
    },
    {
      "cell_type": "markdown",
      "metadata": {
        "hidden": true,
        "id": "6NEikPIGvBre"
      },
      "source": [
        "\n",
        "Assume that someone's height is 5 ft and 9 inches. Conver that to centimeters. Remember that one foot is 30.48 centimeters, and one inch is 2.54 centimeters."
      ]
    },
    {
      "cell_type": "code",
      "execution_count": 13,
      "metadata": {
        "hidden": true,
        "id": "JLlyMpVmvBrf",
        "outputId": "9b77e1e6-2dcf-4923-b34b-43f66f4364b4",
        "colab": {
          "base_uri": "https://localhost:8080/"
        }
      },
      "outputs": [
        {
          "output_type": "stream",
          "name": "stdout",
          "text": [
            "175.26\n"
          ]
        }
      ],
      "source": [
        "# your code here\n",
        "print(30.48*5 + 2.54*9)"
      ]
    },
    {
      "cell_type": "markdown",
      "metadata": {
        "hidden": true,
        "solution2": "hidden",
        "solution2_first": true,
        "id": "wpmbhPo4vBrf"
      },
      "source": [
        "### Solution"
      ]
    },
    {
      "cell_type": "code",
      "execution_count": 14,
      "metadata": {
        "hidden": true,
        "solution2": "hidden",
        "id": "hj_buFC4vBrf",
        "outputId": "3c113f09-dc45-4ebe-b633-9ecc8f0b6739",
        "colab": {
          "base_uri": "https://localhost:8080/"
        }
      },
      "outputs": [
        {
          "output_type": "stream",
          "name": "stdout",
          "text": [
            "The height in centimeters is:\n",
            "175.26\n"
          ]
        }
      ],
      "source": [
        "print(\"The height in centimeters is:\")\n",
        "print(5 * 30.48 + 9 * 2.54)"
      ]
    },
    {
      "cell_type": "markdown",
      "metadata": {
        "heading_collapsed": true,
        "id": "xTb_c9CPvBrf"
      },
      "source": [
        "## Exercise 4\n"
      ]
    },
    {
      "cell_type": "markdown",
      "metadata": {
        "hidden": true,
        "id": "Q7s_DOFRvBrf"
      },
      "source": [
        "\n",
        "Write a Python program to compute the future value of a deposit with a a principal amount of \\$10,000, rate of interest 3%, and after 5 years. Remember that the value is: $ Principal * (1+interest)^{years}$ and you will need to use the power operator  (**) for this calculation."
      ]
    },
    {
      "cell_type": "code",
      "execution_count": 15,
      "metadata": {
        "hidden": true,
        "id": "dXTu1TlfvBrf",
        "outputId": "33b86d82-35af-45e4-9c10-74167b9a148d",
        "colab": {
          "base_uri": "https://localhost:8080/"
        }
      },
      "outputs": [
        {
          "output_type": "stream",
          "name": "stdout",
          "text": [
            "11592.740743\n"
          ]
        }
      ],
      "source": [
        "# your code here\n",
        "print(10000*(1+0.03)**5)"
      ]
    },
    {
      "cell_type": "markdown",
      "metadata": {
        "heading_collapsed": true,
        "hidden": true,
        "solution2": "hidden",
        "solution2_first": true,
        "id": "c-951Sc6vBrf"
      },
      "source": [
        "### Solution"
      ]
    },
    {
      "cell_type": "code",
      "execution_count": 16,
      "metadata": {
        "hidden": true,
        "solution2": "hidden",
        "id": "VublvpGdvBrf",
        "outputId": "50520511-3bff-42b7-87e1-7581753a5568",
        "colab": {
          "base_uri": "https://localhost:8080/"
        }
      },
      "outputs": [
        {
          "output_type": "stream",
          "name": "stdout",
          "text": [
            "The value of the deposit will be:\n",
            "11592.740743\n"
          ]
        }
      ],
      "source": [
        "print(\"The value of the deposit will be:\")\n",
        "print(10000 * (1 + 3 / 100) ** 5)"
      ]
    },
    {
      "cell_type": "markdown",
      "metadata": {
        "heading_collapsed": true,
        "id": "8oYjlrMpvBrf"
      },
      "source": [
        "## Exercise 5"
      ]
    },
    {
      "cell_type": "markdown",
      "metadata": {
        "hidden": true,
        "id": "Srm6MCdIvBrf"
      },
      "source": [
        "Assume that someone's height is 180 centimeters. Convert that height into feet and inches. Remember that one foot is 30.48 centimeters, and one inch is 2.54 centimeters. You will need to use the modulo operator (%) for this conversion. Also use the `int(...)` function to get the integer part of a division. Optionally, you can also use the `round(...)` function to get the rounded integer number from a decimal."
      ]
    },
    {
      "cell_type": "code",
      "execution_count": 24,
      "metadata": {
        "hidden": true,
        "id": "GnhKl9IzvBrf",
        "outputId": "6b35f80e-0829-4215-ccff-1547acdaeb2a",
        "colab": {
          "base_uri": "https://localhost:8080/"
        }
      },
      "outputs": [
        {
          "output_type": "stream",
          "name": "stdout",
          "text": [
            "5\n",
            "10.9\n"
          ]
        }
      ],
      "source": [
        "# your code here\n",
        "print(int(180/30.48))\n",
        "print(round((180 % 30.48 / 2.54),1))"
      ]
    },
    {
      "cell_type": "markdown",
      "metadata": {
        "hidden": true,
        "solution2": "hidden",
        "solution2_first": true,
        "id": "jYrWOjqYvBrf"
      },
      "source": [
        "### Solution"
      ]
    },
    {
      "cell_type": "code",
      "execution_count": null,
      "metadata": {
        "hidden": true,
        "solution2": "hidden",
        "id": "iIobpjQavBrf"
      },
      "outputs": [],
      "source": [
        "print(\"180 cm is\")\n",
        "print(180 // 30.48)\n",
        "print(\"feet and \")\n",
        "print(180 % 30.48 / 2.54)\n",
        "print(\"inches\")"
      ]
    },
    {
      "cell_type": "code",
      "execution_count": null,
      "metadata": {
        "hidden": true,
        "solution2": "hidden",
        "id": "iQcdhsTJvBrj"
      },
      "outputs": [],
      "source": [
        "# let’s see how we can print the message in one line\n",
        "print(\"180 cm is\", 180 // 30.48, \"feet and \", 180 % 30.48 / 2.54, \"inches\")"
      ]
    },
    {
      "cell_type": "code",
      "execution_count": 20,
      "metadata": {
        "hidden": true,
        "solution2": "hidden",
        "id": "otLuSJGBvBrj",
        "outputId": "7dfd63b6-ac8e-456a-b9a0-655445e70c51",
        "colab": {
          "base_uri": "https://localhost:8080/"
        }
      },
      "outputs": [
        {
          "output_type": "stream",
          "name": "stdout",
          "text": [
            "180 cm is 5 feet and 10 inches\n"
          ]
        }
      ],
      "source": [
        "# Let's use int() function to make the output look a bit nicer.\n",
        "print(\"180 cm is\", int(180 / 30.48), \"feet and\", int(180 % 30.48 / 2.54), \"inches\")"
      ]
    },
    {
      "cell_type": "code",
      "execution_count": 19,
      "metadata": {
        "hidden": true,
        "solution2": "hidden",
        "id": "m3KFV7FpvBrj",
        "outputId": "58cd11ae-8756-4726-a159-8c3878f28ad1",
        "colab": {
          "base_uri": "https://localhost:8080/"
        }
      },
      "outputs": [
        {
          "output_type": "stream",
          "name": "stdout",
          "text": [
            "180 cm is 5 feet and 10.9 inches\n"
          ]
        }
      ],
      "source": [
        "# Let's use the functions int() and round()\n",
        "print(\"180 cm is\", int(180 / 30.48), \"feet and\", round(180 % 30.48 / 2.54, 1), \"inches\")"
      ]
    }
  ],
  "metadata": {
    "kernelspec": {
      "display_name": "Python 3",
      "language": "python",
      "name": "python3"
    },
    "language_info": {
      "codemirror_mode": {
        "name": "ipython",
        "version": 3
      },
      "file_extension": ".py",
      "mimetype": "text/x-python",
      "name": "python",
      "nbconvert_exporter": "python",
      "pygments_lexer": "ipython3",
      "version": "3.8.2"
    },
    "colab": {
      "provenance": []
    }
  },
  "nbformat": 4,
  "nbformat_minor": 0
}